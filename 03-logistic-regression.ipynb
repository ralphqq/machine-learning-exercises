{
 "cells": [
  {
   "cell_type": "markdown",
   "metadata": {},
   "source": [
    "# Logistic Regression\n",
    "This covers exercise 3 of Prof. Andrew Ng's ML Stanford course and closely follows part 3 of [John Wittenhauer's Python rendering of the exercise](http://www.johnwittenauer.net/machine-learning-exercises-in-python-part-3/). I tried playing around with the approach to the problem and used matrix operations in place of `for` loops and explicit element-wise multiplication, though I don't think my approach is any better.\n",
    "## Logistic Regression Classification\n",
    "The objective of exercise three is to come up with a model that can predict whether a given student will be admitted to a school based on the candidate's scores on two exams."
   ]
  },
  {
   "cell_type": "code",
   "execution_count": 1,
   "metadata": {
    "collapsed": true
   },
   "outputs": [],
   "source": [
    "% matplotlib inline\n",
    "import matplotlib.pyplot as plt\n",
    "import numpy as np\n",
    "import pandas as pd\n",
    "import scipy.optimize as opt\n",
    "import seaborn as sns"
   ]
  },
  {
   "cell_type": "code",
   "execution_count": 2,
   "metadata": {
    "collapsed": false
   },
   "outputs": [],
   "source": [
    "data1 = pd.read_csv('Data\\\\ex03.csv')"
   ]
  },
  {
   "cell_type": "code",
   "execution_count": 3,
   "metadata": {
    "collapsed": false
   },
   "outputs": [
    {
     "data": {
      "text/html": [
       "<div>\n",
       "<table border=\"1\" class=\"dataframe\">\n",
       "  <thead>\n",
       "    <tr style=\"text-align: right;\">\n",
       "      <th></th>\n",
       "      <th>exam1</th>\n",
       "      <th>exam2</th>\n",
       "      <th>admitted</th>\n",
       "    </tr>\n",
       "  </thead>\n",
       "  <tbody>\n",
       "    <tr>\n",
       "      <th>0</th>\n",
       "      <td>34.623660</td>\n",
       "      <td>78.024693</td>\n",
       "      <td>0</td>\n",
       "    </tr>\n",
       "    <tr>\n",
       "      <th>1</th>\n",
       "      <td>30.286711</td>\n",
       "      <td>43.894998</td>\n",
       "      <td>0</td>\n",
       "    </tr>\n",
       "    <tr>\n",
       "      <th>2</th>\n",
       "      <td>35.847409</td>\n",
       "      <td>72.902198</td>\n",
       "      <td>0</td>\n",
       "    </tr>\n",
       "    <tr>\n",
       "      <th>3</th>\n",
       "      <td>60.182599</td>\n",
       "      <td>86.308552</td>\n",
       "      <td>1</td>\n",
       "    </tr>\n",
       "    <tr>\n",
       "      <th>4</th>\n",
       "      <td>79.032736</td>\n",
       "      <td>75.344376</td>\n",
       "      <td>1</td>\n",
       "    </tr>\n",
       "  </tbody>\n",
       "</table>\n",
       "</div>"
      ],
      "text/plain": [
       "       exam1      exam2  admitted\n",
       "0  34.623660  78.024693         0\n",
       "1  30.286711  43.894998         0\n",
       "2  35.847409  72.902198         0\n",
       "3  60.182599  86.308552         1\n",
       "4  79.032736  75.344376         1"
      ]
     },
     "execution_count": 3,
     "metadata": {},
     "output_type": "execute_result"
    }
   ],
   "source": [
    "data1.head()"
   ]
  },
  {
   "cell_type": "code",
   "execution_count": 4,
   "metadata": {
    "collapsed": false
   },
   "outputs": [
    {
     "data": {
      "text/html": [
       "<div>\n",
       "<table border=\"1\" class=\"dataframe\">\n",
       "  <thead>\n",
       "    <tr style=\"text-align: right;\">\n",
       "      <th></th>\n",
       "      <th></th>\n",
       "      <th>exam1</th>\n",
       "      <th>exam2</th>\n",
       "    </tr>\n",
       "    <tr>\n",
       "      <th>admitted</th>\n",
       "      <th></th>\n",
       "      <th></th>\n",
       "      <th></th>\n",
       "    </tr>\n",
       "  </thead>\n",
       "  <tbody>\n",
       "    <tr>\n",
       "      <th rowspan=\"8\" valign=\"top\">0</th>\n",
       "      <th>count</th>\n",
       "      <td>40.000000</td>\n",
       "      <td>40.000000</td>\n",
       "    </tr>\n",
       "    <tr>\n",
       "      <th>mean</th>\n",
       "      <td>52.032301</td>\n",
       "      <td>54.620392</td>\n",
       "    </tr>\n",
       "    <tr>\n",
       "      <th>std</th>\n",
       "      <td>17.549050</td>\n",
       "      <td>16.081591</td>\n",
       "    </tr>\n",
       "    <tr>\n",
       "      <th>min</th>\n",
       "      <td>30.058822</td>\n",
       "      <td>30.603263</td>\n",
       "    </tr>\n",
       "    <tr>\n",
       "      <th>25%</th>\n",
       "      <td>35.707085</td>\n",
       "      <td>42.808798</td>\n",
       "    </tr>\n",
       "    <tr>\n",
       "      <th>50%</th>\n",
       "      <td>50.410642</td>\n",
       "      <td>49.698756</td>\n",
       "    </tr>\n",
       "    <tr>\n",
       "      <th>75%</th>\n",
       "      <td>61.928323</td>\n",
       "      <td>63.594638</td>\n",
       "    </tr>\n",
       "    <tr>\n",
       "      <th>max</th>\n",
       "      <td>95.861555</td>\n",
       "      <td>98.869436</td>\n",
       "    </tr>\n",
       "    <tr>\n",
       "      <th rowspan=\"8\" valign=\"top\">1</th>\n",
       "      <th>count</th>\n",
       "      <td>60.000000</td>\n",
       "      <td>60.000000</td>\n",
       "    </tr>\n",
       "    <tr>\n",
       "      <th>mean</th>\n",
       "      <td>74.718923</td>\n",
       "      <td>73.956402</td>\n",
       "    </tr>\n",
       "    <tr>\n",
       "      <th>std</th>\n",
       "      <td>14.912420</td>\n",
       "      <td>16.012403</td>\n",
       "    </tr>\n",
       "    <tr>\n",
       "      <th>min</th>\n",
       "      <td>40.457551</td>\n",
       "      <td>43.390602</td>\n",
       "    </tr>\n",
       "    <tr>\n",
       "      <th>25%</th>\n",
       "      <td>63.597244</td>\n",
       "      <td>65.409676</td>\n",
       "    </tr>\n",
       "    <tr>\n",
       "      <th>50%</th>\n",
       "      <td>75.436657</td>\n",
       "      <td>74.753748</td>\n",
       "    </tr>\n",
       "    <tr>\n",
       "      <th>75%</th>\n",
       "      <td>84.675745</td>\n",
       "      <td>87.442625</td>\n",
       "    </tr>\n",
       "    <tr>\n",
       "      <th>max</th>\n",
       "      <td>99.827858</td>\n",
       "      <td>97.718692</td>\n",
       "    </tr>\n",
       "  </tbody>\n",
       "</table>\n",
       "</div>"
      ],
      "text/plain": [
       "                    exam1      exam2\n",
       "admitted                            \n",
       "0        count  40.000000  40.000000\n",
       "         mean   52.032301  54.620392\n",
       "         std    17.549050  16.081591\n",
       "         min    30.058822  30.603263\n",
       "         25%    35.707085  42.808798\n",
       "         50%    50.410642  49.698756\n",
       "         75%    61.928323  63.594638\n",
       "         max    95.861555  98.869436\n",
       "1        count  60.000000  60.000000\n",
       "         mean   74.718923  73.956402\n",
       "         std    14.912420  16.012403\n",
       "         min    40.457551  43.390602\n",
       "         25%    63.597244  65.409676\n",
       "         50%    75.436657  74.753748\n",
       "         75%    84.675745  87.442625\n",
       "         max    99.827858  97.718692"
      ]
     },
     "execution_count": 4,
     "metadata": {},
     "output_type": "execute_result"
    }
   ],
   "source": [
    "groups = data1.groupby(by='admitted')\n",
    "groups.describe()"
   ]
  },
  {
   "cell_type": "code",
   "execution_count": 5,
   "metadata": {
    "collapsed": false
   },
   "outputs": [
    {
     "data": {
      "text/plain": [
       "admitted\n",
       "0    52.032301\n",
       "1    74.718923\n",
       "Name: exam1, dtype: float64"
      ]
     },
     "execution_count": 5,
     "metadata": {},
     "output_type": "execute_result"
    }
   ],
   "source": [
    "groups.exam1.mean()"
   ]
  },
  {
   "cell_type": "code",
   "execution_count": 6,
   "metadata": {
    "collapsed": false
   },
   "outputs": [
    {
     "data": {
      "text/plain": [
       "admitted\n",
       "0    54.620392\n",
       "1    73.956402\n",
       "Name: exam2, dtype: float64"
      ]
     },
     "execution_count": 6,
     "metadata": {},
     "output_type": "execute_result"
    }
   ],
   "source": [
    "groups.exam2.mean()"
   ]
  },
  {
   "cell_type": "markdown",
   "metadata": {},
   "source": [
    "We can immediately see that the mean `exam1` and `exam2` scores are higher in the addmited group (candidates with 1 under the `admitted` column) and the not admitted candidates.\n",
    "\n",
    "This is shown more clearly in the below figure:"
   ]
  },
  {
   "cell_type": "code",
   "execution_count": 7,
   "metadata": {
    "collapsed": false
   },
   "outputs": [
    {
     "data": {
      "text/plain": [
       "<seaborn.axisgrid.FacetGrid at 0x91efcf0>"
      ]
     },
     "execution_count": 7,
     "metadata": {},
     "output_type": "execute_result"
    },
    {
     "data": {
      "image/png": "[encoded data removed]",
      "text/plain": [
       "<matplotlib.figure.Figure at 0x11e48bf0>"
      ]
     },
     "metadata": {},
     "output_type": "display_data"
    }
   ],
   "source": [
    "sns.factorplot(data=data1, col='admitted', kind='bar')"
   ]
  },
  {
   "cell_type": "markdown",
   "metadata": {},
   "source": [
    "But let's just look at the raw scores:"
   ]
  },
  {
   "cell_type": "code",
   "execution_count": 8,
   "metadata": {
    "collapsed": false
   },
   "outputs": [
    {
     "data": {
      "text/plain": [
       "<seaborn.axisgrid.FacetGrid at 0x11e48930>"
      ]
     },
     "execution_count": 8,
     "metadata": {},
     "output_type": "execute_result"
    },
    {
     "data": {
      "image/png": "[encoded data removed]",
      "text/plain": [
       "<matplotlib.figure.Figure at 0x11f282f0>"
      ]
     },
     "metadata": {},
     "output_type": "display_data"
    }
   ],
   "source": [
    "sns.lmplot(x='exam1', y='exam2', hue='admitted', data=data1, fit_reg=False)"
   ]
  },
  {
   "cell_type": "markdown",
   "metadata": {},
   "source": [
    "It looks like an applicant's scores might predict whether he or she gets admitted. Now let's proceed with our logistic regression analysis using these variables."
   ]
  },
  {
   "cell_type": "markdown",
   "metadata": {},
   "source": [
    "### The Sigmoid Function\n",
    "As shown in the lectures, the hypothesis function for a logistic regression problem is best stated as a sigmoid function as follows:\n",
    "\n",
    "$$ {h_\\theta }\\left( {{{\\bf{x}}_i}} \\right) = g\\left( z \\right) = \\frac{1}{{1 + {e^{ - z}}}} $$\n",
    "\n",
    "where: $ z = {\\theta ^T}{{\\bf{x}}_i} $\n",
    "\n",
    "Thus we define the following function in code:"
   ]
  },
  {
   "cell_type": "code",
   "execution_count": 9,
   "metadata": {
    "collapsed": true
   },
   "outputs": [],
   "source": [
    "def sigmoid(z):\n",
    "    return 1.0 / (1 + np.exp(-z))"
   ]
  },
  {
   "cell_type": "markdown",
   "metadata": {},
   "source": [
    "### The Cost Function\n",
    "The individual cost function for the $ i $-th training sample is given by:\n",
    "\n",
    "$$ {\\rm{cost}}\\left( {{h_\\theta }\\left( {{{\\bf{x}}_i}} \\right),\\,{y_i}} \\right) =  - {y_i}\\ln {h_\\theta }\\left( {{{\\bf{x}}_i}} \\right) - \\left( {1 - {y_i}} \\right)\\ln \\left( {1 - {h_\\theta }\\left( {{{\\bf{x}}_i}} \\right)} \\right) $$\n",
    "\n",
    "The overall cost for $ m $ training samples is:\n",
    "\n",
    "$$ J\\left( \\theta  \\right) =  - \\frac{1}{m}\\sum\\limits_{i = 1}^m {\\left[ {{y_i}\\ln {h_\\theta }\\left( {{{\\bf{x}}_i}} \\right) - \\left( {1 - {y_i}} \\right)\\ln \\left( {1 - {h_\\theta }\\left( {{{\\bf{x}}_i}} \\right)} \\right)} \\right]}  $$\n",
    "\n",
    "This can further be simplified into:\n",
    "\n",
    "$$ J\\left( \\theta  \\right) =  - \\frac{1}{m}\\sum\\limits_{i = 1}^m {\\left[ {\\ln {h_\\theta }\\left( {{{\\bf{x}}_i}} \\right) + \\left( {{y_i} - 1} \\right){\\theta ^T}{{\\bf{x}}_i}} \\right]}  $$\n",
    "\n",
    "I think the above simplification is more tenable to vectorization later on, especially if we consider that the whole business inside the summation operator can be expressed in matrix form as follows:\n",
    "\n",
    "$$ {\\rm{\\gamma }} + \\left( {{\\bf{y}} - {\\bf{1}}} \\right){{\\bf{I}}_m}{\\bf{X}}\\theta  = \\left[ {\\begin{array}{*{20}{c}}\n",
    "   \\hfill {\\ln {\\theta ^T}{{\\bf{x}}_1}} \\\\\n",
    "   \\hfill {\\ln {\\theta ^T}{{\\bf{x}}_2}} \\\\\n",
    "   \\hfill  \\vdots  \\\\\n",
    "   \\hfill {\\ln {\\theta ^T}{{\\bf{x}}_m}} \\\\\n",
    "\\end{array}} \\right] + \\left[ {\\begin{array}{*{20}{c}}\n",
    "   \\hfill {{y_1} - 1} & \\hfill {} & \\hfill {} & \\hfill {} \\\\\n",
    "   \\hfill {} & \\hfill {{y_2} - 1} & \\hfill {} & \\hfill {} \\\\\n",
    "   \\hfill {} & \\hfill {} & \\hfill  \\ddots  & \\hfill {} \\\\\n",
    "   \\hfill {} & \\hfill {} & \\hfill {} & \\hfill {{y_m} - 1} \\\\\n",
    "\\end{array}} \\right]\\left[ {\\begin{array}{*{20}{c}}\n",
    "   \\hfill {{\\theta ^T}{{\\bf{x}}_1}} \\\\\n",
    "   \\hfill {{\\theta ^T}{{\\bf{x}}_2}} \\\\\n",
    "   \\hfill  \\vdots  \\\\\n",
    "   \\hfill {{\\theta ^T}{{\\bf{x}}_m}} \\\\\n",
    "\\end{array}} \\right] $$\n",
    "\n",
    "where $ \\gamma  = {\\left[ {\\begin{array}{*{20}{c}}\n",
    "   \\hfill {\\ln {\\theta ^T}{{\\bf{x}}_1}} & \\hfill {\\ln {\\theta ^T}{{\\bf{x}}_2}} & \\hfill  \\ldots  & \\hfill {\\ln {\\theta ^T}{{\\bf{x}}_m}} \\\\\n",
    "\\end{array}} \\right]^T} $ , $ {\\bf{1}} $ is an $ m $ -dimensional vector whose components are all 1, and $ {{\\bf{I}}_m}$ is the $ m \\times m $ identity matrix.\n",
    "\n",
    "So, we define the following overall cost function:"
   ]
  },
  {
   "cell_type": "code",
   "execution_count": 10,
   "metadata": {
    "collapsed": false
   },
   "outputs": [],
   "source": [
    "def cost(theta, X, y):\n",
    "    theta = np.matrix(theta).T\n",
    "    X = np.matrix(X)\n",
    "    y = np.matrix(y)\n",
    "    m, _ = y.shape\n",
    "    z = X * theta\n",
    "    cost_i = np.log(sigmoid(z)) + np.diag(y.A1 - 1) * z\n",
    "    return (-np.sum(cost_i)) / m"
   ]
  },
  {
   "cell_type": "markdown",
   "metadata": {},
   "source": [
    "### Turn Everything to Numpy Arrays"
   ]
  },
  {
   "cell_type": "code",
   "execution_count": 11,
   "metadata": {
    "collapsed": false
   },
   "outputs": [
    {
     "data": {
      "text/plain": [
       "(100, 1)"
      ]
     },
     "execution_count": 11,
     "metadata": {},
     "output_type": "execute_result"
    }
   ],
   "source": [
    "# the target variable\n",
    "m, _ = data1.shape\n",
    "y = np.reshape(data1.admitted.values, (m, 1))\n",
    "y.shape"
   ]
  },
  {
   "cell_type": "code",
   "execution_count": 12,
   "metadata": {
    "collapsed": false
   },
   "outputs": [
    {
     "data": {
      "text/plain": [
       "(100, 3)"
      ]
     },
     "execution_count": 12,
     "metadata": {},
     "output_type": "execute_result"
    }
   ],
   "source": [
    "# creating the array for the design matrix\n",
    "ones = np.ones(m)\n",
    "exam1 = data1.exam1.values\n",
    "exam2 = data1.exam2.values\n",
    "X = np.array([ones, exam1, exam2]).T\n",
    "X.shape"
   ]
  },
  {
   "cell_type": "code",
   "execution_count": 13,
   "metadata": {
    "collapsed": false
   },
   "outputs": [
    {
     "data": {
      "text/plain": [
       "array([ 0.,  0.,  0.])"
      ]
     },
     "execution_count": 13,
     "metadata": {},
     "output_type": "execute_result"
    }
   ],
   "source": [
    "# Defining and initializing the parameter vector theta\n",
    "_, nparams = X.shape\n",
    "theta = np.zeros(nparams)\n",
    "theta"
   ]
  },
  {
   "cell_type": "markdown",
   "metadata": {},
   "source": [
    "### Trying out the Cost Function"
   ]
  },
  {
   "cell_type": "code",
   "execution_count": 14,
   "metadata": {
    "collapsed": false
   },
   "outputs": [
    {
     "data": {
      "text/plain": [
       "0.69314718055994529"
      ]
     },
     "execution_count": 14,
     "metadata": {},
     "output_type": "execute_result"
    }
   ],
   "source": [
    "cost(X=X, y=y, theta=theta)"
   ]
  },
  {
   "cell_type": "markdown",
   "metadata": {},
   "source": [
    "### Gradient and Optimization\n",
    "Based on the equation for $ J\\left( \\theta  \\right) $, we can show that the gradient descent for finding the value of $ j $ -th parameter that minimizes the overall cost function is:\n",
    "\n",
    "$$ {\\theta _j}: = {\\theta _j} - \\alpha \\frac{\\partial }{{\\partial {\\theta _j}}}J\\left( \\theta  \\right) $$\n",
    "\n",
    "which turns out to be:\n",
    "\n",
    "$$ {\\theta _j}: = {\\theta _j} - \\alpha \\frac{1}{m}\\sum\\limits_{i = 1}^m {{{\\bf{x}}_i}\\left[ {{h_\\theta }\\left( {{{\\bf{x}}_i}} \\right) - {y_i}} \\right]}  $$\n",
    "\n",
    "This looks exactly like the gradient descent algorithm we saw for linear regression.\n",
    "\n",
    "Note that the (gradient term) summation term can be expressed in matrixx form as:\n",
    "\n",
    "$$ \\sum\\limits_{i = 1}^m {{{\\bf{x}}_i}\\left[ {{h_\\theta }\\left( {{{\\bf{x}}_i}} \\right) - {y_i}} \\right]}  = {{\\bf{X}}^T}\\left[ {{\\rm{\\gamma }} - {\\bf{y}}} \\right] $$\n",
    "\n",
    "where \n",
    "\n",
    "$$ {\\rm{\\gamma }} = \\left[ {\\begin{array}{*{20}{c}}\n",
    "   \\hfill {g\\left( {{\\theta ^T}{{\\bf{x}}_i}} \\right)} \\\\\n",
    "   \\hfill {g\\left( {{\\theta ^T}{{\\bf{x}}_2}} \\right)} \\\\\n",
    "   \\hfill  \\vdots  \\\\\n",
    "   \\hfill {g\\left( {{\\theta ^T}{{\\bf{x}}_m}} \\right)} \\\\\n",
    "\\end{array}} \\right] = \\left[ {\\begin{array}{*{20}{c}}\n",
    "   \\hfill {{h_\\theta }\\left( {{{\\bf{x}}_1}} \\right)} \\\\\n",
    "   \\hfill {{h_\\theta }\\left( {{{\\bf{x}}_2}} \\right)} \\\\\n",
    "   \\hfill  \\vdots  \\\\\n",
    "   \\hfill {{h_\\theta }\\left( {{{\\bf{x}}_m}} \\right)} \\\\\n",
    "\\end{array}} \\right] $$\n",
    "\n",
    "This will make it easier to write our gradient function as follows:"
   ]
  },
  {
   "cell_type": "code",
   "execution_count": 15,
   "metadata": {
    "collapsed": false
   },
   "outputs": [],
   "source": [
    "def gradient(theta, X, y):\n",
    "    theta = np.matrix(theta).T\n",
    "    X = np.matrix(X)\n",
    "    y = np.matrix(y)\n",
    "    z = X * theta\n",
    "    grad = X.T * (sigmoid(z) - y)\n",
    "    return (grad.A1) / y.shape[0]"
   ]
  },
  {
   "cell_type": "markdown",
   "metadata": {},
   "source": [
    "Following the [approach used by J. Wittenhauer](http://www.johnwittenauer.net/machine-learning-exercises-in-python-part-3/) and by Prof. Ng in this exercise, we do not explicitly write the iterations needed to arrive at the optimal values of the parameters. Rather we write the above function to return the gradient at specific values of the parameters and let scipy's optimization API compute the optimal values of theta for us."
   ]
  },
  {
   "cell_type": "code",
   "execution_count": 16,
   "metadata": {
    "collapsed": false
   },
   "outputs": [
    {
     "data": {
      "text/plain": [
       "array([ -0.1       , -12.00921659, -11.26284221])"
      ]
     },
     "execution_count": 16,
     "metadata": {},
     "output_type": "execute_result"
    }
   ],
   "source": [
    "# let's give this a try\n",
    "gradient(X=X, y=y, theta=theta)"
   ]
  },
  {
   "cell_type": "code",
   "execution_count": 17,
   "metadata": {
    "collapsed": false
   },
   "outputs": [
    {
     "data": {
      "text/plain": [
       "(array([-25.16131863,   0.20623159,   0.20147149]), 36, 0)"
      ]
     },
     "execution_count": 17,
     "metadata": {},
     "output_type": "execute_result"
    }
   ],
   "source": [
    "res = opt.fmin_tnc(func=cost, x0=theta, fprime=gradient, args=(X, y))\n",
    "res"
   ]
  },
  {
   "cell_type": "code",
   "execution_count": 18,
   "metadata": {
    "collapsed": false
   },
   "outputs": [
    {
     "data": {
      "text/plain": [
       "0.20349770158938335"
      ]
     },
     "execution_count": 18,
     "metadata": {},
     "output_type": "execute_result"
    }
   ],
   "source": [
    "cost(theta=res[0], X=X, y=y)"
   ]
  },
  {
   "cell_type": "markdown",
   "metadata": {},
   "source": [
    "This is certainly lower than the initial cost of 0.69. According to the optimization algorithm we used, the values of the parameters (`theta`) that give the minimum possible cost are:"
   ]
  },
  {
   "cell_type": "code",
   "execution_count": 19,
   "metadata": {
    "collapsed": false
   },
   "outputs": [
    {
     "data": {
      "text/plain": [
       "array([-25.16131863,   0.20623159,   0.20147149])"
      ]
     },
     "execution_count": 19,
     "metadata": {},
     "output_type": "execute_result"
    }
   ],
   "source": [
    "res[0]"
   ]
  },
  {
   "cell_type": "markdown",
   "metadata": {},
   "source": [
    "### Building the Model and Making Predictions\n",
    "We now have the parameters we need to build our model for predicting if a student gets admitted or not. The results show that\n",
    "\n",
    "$$ {z_i} = {\\hat \\theta ^T}{{\\bf{x}}_i} = {\\left[ {\\begin{array}{*{20}{c}}\n",
    "   \\hfill { - 25.161} \\\\\n",
    "   \\hfill {0.206} \\\\\n",
    "   \\hfill {0.201} \\\\\n",
    "\\end{array}} \\right]^T}\\left[ {\\begin{array}{*{20}{c}}\n",
    "   \\hfill 1 \\\\\n",
    "   \\hfill {{x_{i,1}}} \\\\\n",
    "   \\hfill {{x_{i,2}}} \\\\\n",
    "\\end{array}} \\right] =  - 25.161 + 0.206{x_{i,1}} + 0.201{x_i}_{,2} $$\n",
    "\n",
    "where $ \\hat \\theta  $ is the vector of our estimated parameters and $ {x_{i,1}} $ and $ {x_{i,2}} $ are the $ i $-th student's scores on the first and second exams, respectively.\n",
    "\n",
    "We can now make the following predictions:\n",
    "\n",
    "$$ {\\hat y_i} = \\left\\{ \\begin{array}{l}\n",
    " 1{\\rm{      if  }}{z_i} > 0 \\\\ \n",
    " 0{\\rm{     otherwise}} \\\\ \n",
    " \\end{array} \\right. $$\n",
    " \n",
    "which is equivalent to:\n",
    "\n",
    "$$ {\\hat y_i} = \\left\\{ \\begin{array}{l}\n",
    " 1{\\rm{      if  }}g\\left( {{z_i}} \\right) > 0.5 \\\\ \n",
    " 0{\\rm{     otherwise}} \\\\ \n",
    " \\end{array} \\right. $$\n",
    "\n",
    "But we'll just use the first one so that we won't need to call the sigmoid function. Thus, our function for prediction is:"
   ]
  },
  {
   "cell_type": "code",
   "execution_count": 20,
   "metadata": {
    "collapsed": true
   },
   "outputs": [],
   "source": [
    "def predict(theta_hat, X):\n",
    "    theta_hat = np.matrix(theta_hat).T\n",
    "    X = np.matrix(X)\n",
    "    z = X * theta_hat\n",
    "    y_hat = z > 0\n",
    "    return y_hat.astype(int)"
   ]
  },
  {
   "cell_type": "code",
   "execution_count": 21,
   "metadata": {
    "collapsed": false
   },
   "outputs": [],
   "source": [
    "y_hat = predict(theta_hat=res[0], X=X)"
   ]
  },
  {
   "cell_type": "code",
   "execution_count": 22,
   "metadata": {
    "collapsed": false
   },
   "outputs": [
    {
     "data": {
      "text/plain": [
       "89.0"
      ]
     },
     "execution_count": 22,
     "metadata": {},
     "output_type": "execute_result"
    }
   ],
   "source": [
    "# Checking accuracy of prediction\n",
    "y_hat = np.reshape(y_hat, (len(y_hat), 1))       # turn y_hat into mx1\n",
    "correct = y == y_hat\n",
    "accuracy = (np.sum(correct.astype(float)) / m) * 100\n",
    "accuracy"
   ]
  }
 ],
 "metadata": {
  "kernelspec": {
   "display_name": "Python 2",
   "language": "python",
   "name": "python2"
  },
  "language_info": {
   "codemirror_mode": {
    "name": "ipython",
    "version": 2
   },
   "file_extension": ".py",
   "mimetype": "text/x-python",
   "name": "python",
   "nbconvert_exporter": "python",
   "pygments_lexer": "ipython2",
   "version": "2.7.12"
  }
 },
 "nbformat": 4,
 "nbformat_minor": 0
}
